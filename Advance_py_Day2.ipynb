{
 "cells": [
  {
   "cell_type": "code",
   "execution_count": 3,
   "metadata": {},
   "outputs": [
    {
     "name": "stdout",
     "output_type": "stream",
     "text": [
      "Welcome to FRUITS BAZAR\n",
      "Enter how much money you have?80\n",
      "Each apple costs Rs: 10\n",
      "How many apple do you want5\n",
      "you will buy 5apples\n",
      "the total price is 50 Rs\n",
      "You have bought 5 apples\n",
      "You have 30 dollars left\n"
     ]
    }
   ],
   "source": [
    "print(\"Welcome to FRUITS BAZAR\")\n",
    "money=int(input(\"Enter how much money you have?\"))\n",
    "fruits={'apple':10,'banana':12,'guava':30,'mango':40}\n",
    "for items in fruits:\n",
    "    \n",
    "    print('Each ' + items + ' costs Rs: ' + str(fruits[items]))\n",
    "    \n",
    "   # temp=input(\"Which fruit do you want to buy: \")\n",
    "    \n",
    "   # for temp in items:\n",
    "        \n",
    "    count=int(input(\"How many \"+ items + \" do you want\"))\n",
    "        \n",
    "    print('you will buy ' +str(count)+ '' + items + 's')\n",
    "        \n",
    "    totalprice=count*fruits[items]\n",
    "        \n",
    "    print('the total price is '+ str(totalprice) +' Rs')\n",
    "        \n",
    "    if money >= totalprice:\n",
    "        print('You have bought ' + str(count) + ' ' + items + 's')\n",
    "            \n",
    "        money-=totalprice\n",
    "            \n",
    "        if money==0:\n",
    "            print('your wallet is empty now')\n",
    "                \n",
    "        break\n",
    "            \n",
    "    else:\n",
    "                \n",
    "        print('You do not have enough money')\n",
    "        print('You cannot buy that maqny ' + items + 's')\n",
    "\n",
    "print('You have '+ str(money)+ ' dollars left')            "
   ]
  },
  {
   "cell_type": "code",
   "execution_count": 10,
   "metadata": {},
   "outputs": [
    {
     "name": "stdout",
     "output_type": "stream",
     "text": [
      "Welcome to the IPL Auction\n",
      "Enter the team name: rcb\n",
      "Pick a player: (0: v.shewag,1: dhoni,2: i.pathan,3: jack kallis,4: ab.deviliers,5: shane watson,6: virat kohli,7: hardik pandya)\n",
      "Enter the corresponding number of player you want9\n"
     ]
    },
    {
     "ename": "IndexError",
     "evalue": "list index out of range",
     "output_type": "error",
     "traceback": [
      "\u001b[1;31m---------------------------------------------------------------------------\u001b[0m",
      "\u001b[1;31mIndexError\u001b[0m                                Traceback (most recent call last)",
      "\u001b[1;32m<ipython-input-10-2ba9d6a2a62b>\u001b[0m in \u001b[0;36m<module>\u001b[1;34m\u001b[0m\n\u001b[0;32m     26\u001b[0m \u001b[1;32mif\u001b[0m \u001b[0mvalidate\u001b[0m\u001b[1;33m(\u001b[0m\u001b[0mplayername\u001b[0m\u001b[1;33m)\u001b[0m\u001b[1;33m:\u001b[0m\u001b[1;33m\u001b[0m\u001b[1;33m\u001b[0m\u001b[0m\n\u001b[0;32m     27\u001b[0m \u001b[1;33m\u001b[0m\u001b[0m\n\u001b[1;32m---> 28\u001b[1;33m     \u001b[0mfun1\u001b[0m\u001b[1;33m(\u001b[0m\u001b[0mplayername\u001b[0m\u001b[1;33m,\u001b[0m\u001b[0mteamname\u001b[0m\u001b[1;33m)\u001b[0m\u001b[1;33m\u001b[0m\u001b[1;33m\u001b[0m\u001b[0m\n\u001b[0m\u001b[0;32m     29\u001b[0m \u001b[1;33m\u001b[0m\u001b[0m\n\u001b[0;32m     30\u001b[0m \u001b[1;32melse\u001b[0m\u001b[1;33m:\u001b[0m\u001b[1;33m\u001b[0m\u001b[1;33m\u001b[0m\u001b[0m\n",
      "\u001b[1;32m<ipython-input-10-2ba9d6a2a62b>\u001b[0m in \u001b[0;36mfun1\u001b[1;34m(pname, team)\u001b[0m\n\u001b[0;32m     12\u001b[0m \u001b[1;33m\u001b[0m\u001b[0m\n\u001b[0;32m     13\u001b[0m     \u001b[0mpnames\u001b[0m\u001b[1;33m=\u001b[0m\u001b[1;33m[\u001b[0m\u001b[1;34m'v.shewag'\u001b[0m\u001b[1;33m,\u001b[0m\u001b[1;34m'dhoni'\u001b[0m\u001b[1;33m,\u001b[0m\u001b[1;34m'i.pathan'\u001b[0m\u001b[1;33m,\u001b[0m\u001b[1;34m'jack kallis'\u001b[0m\u001b[1;33m,\u001b[0m\u001b[1;34m'ab.deviliers'\u001b[0m\u001b[1;33m,\u001b[0m\u001b[1;34m'shane watson'\u001b[0m\u001b[1;33m,\u001b[0m\u001b[1;34m'virat kohli'\u001b[0m\u001b[1;33m,\u001b[0m\u001b[1;34m'hardik pandya'\u001b[0m\u001b[1;33m]\u001b[0m\u001b[1;33m\u001b[0m\u001b[1;33m\u001b[0m\u001b[0m\n\u001b[1;32m---> 14\u001b[1;33m     \u001b[0mprint\u001b[0m\u001b[1;33m(\u001b[0m\u001b[1;34mf\"{pnames[pname].title()} is associated with {team.title()}\"\u001b[0m\u001b[1;33m)\u001b[0m\u001b[1;33m\u001b[0m\u001b[1;33m\u001b[0m\u001b[0m\n\u001b[0m\u001b[0;32m     15\u001b[0m \u001b[1;33m\u001b[0m\u001b[0m\n\u001b[0;32m     16\u001b[0m \u001b[0mprint\u001b[0m\u001b[1;33m(\u001b[0m\u001b[1;34m'Welcome to the IPL Auction'\u001b[0m\u001b[1;33m)\u001b[0m\u001b[1;33m\u001b[0m\u001b[1;33m\u001b[0m\u001b[0m\n",
      "\u001b[1;31mIndexError\u001b[0m: list index out of range"
     ]
    }
   ],
   "source": [
    "def validate(pname):\n",
    "    if pname>=0 or pname<=7:\n",
    "        return True\n",
    "    \n",
    "    else:\n",
    "        return False\n",
    "\n",
    "\n",
    "\n",
    "\n",
    "def fun1(pname,team='delhi daredevils'):\n",
    "    \n",
    "    pnames=['v.shewag','dhoni','i.pathan','jack kallis','ab.deviliers','shane watson','virat kohli','hardik pandya']\n",
    "    print(f\"{pnames[pname].title()} is associated with {team.title()}\")\n",
    "    \n",
    "print('Welcome to the IPL Auction')\n",
    "\n",
    "teamname=input('Enter the team name: ')\n",
    "\n",
    "print('Pick a player: (0: v.shewag,1: dhoni,2: i.pathan,3: jack kallis,4: ab.deviliers,5: shane watson,6: virat kohli,7: hardik pandya)')\n",
    "\n",
    "playername=int(input('Enter the corresponding number of player you want'))\n",
    "\n",
    "\n",
    "\n",
    "if validate(playername):\n",
    "    \n",
    "    fun1(playername,teamname)\n",
    "\n",
    "else:\n",
    "    print('Enter valid selection value')\n"
   ]
  },
  {
   "cell_type": "code",
   "execution_count": 4,
   "metadata": {},
   "outputs": [
    {
     "name": "stdout",
     "output_type": "stream",
     "text": [
      "\n",
      "[57 23 30 26]\n",
      "\n",
      "[-33   5 -20 -10]\n",
      "\n",
      "[540 126 125 144]\n",
      "\n",
      "[0.26666667 1.55555556 0.2        0.44444444]\n",
      "\n",
      "[12  5  5  8]\n"
     ]
    }
   ],
   "source": [
    "import numpy as np\n",
    "\n",
    "arr1=np.array([12,14,5,8])\n",
    "\n",
    "arr2=np.array([45,9,25,18])\n",
    "\n",
    "print(f\"\\n{arr1+arr2}\")\n",
    "print(f\"\\n{arr1-arr2}\")\n",
    "print(f\"\\n{arr1*arr2}\")\n",
    "print(f\"\\n{arr1/arr2}\")\n",
    "print(f\"\\n{arr1%arr2}\")"
   ]
  },
  {
   "cell_type": "code",
   "execution_count": 11,
   "metadata": {},
   "outputs": [
    {
     "name": "stdout",
     "output_type": "stream",
     "text": [
      "Array1:\n",
      " [[4 5 6]\n",
      " [1 2 3]]\n",
      "Array2:\n",
      " [[7 8 9]\n",
      " [3 5 7]]\n"
     ]
    }
   ],
   "source": [
    "arr=np.array([[4,5,6],[1,2,3]])\n",
    "arr3=np.array([[7,8,9],[3,5,7]])\n",
    "\n",
    "print('Array1:\\n',arr)\n",
    "print('Array2:\\n',arr3)"
   ]
  },
  {
   "cell_type": "code",
   "execution_count": 12,
   "metadata": {},
   "outputs": [
    {
     "data": {
      "text/plain": [
       "array([[28, 40, 54],\n",
       "       [ 3, 10, 21]])"
      ]
     },
     "execution_count": 12,
     "metadata": {},
     "output_type": "execute_result"
    }
   ],
   "source": [
    "arr*arr3"
   ]
  },
  {
   "cell_type": "code",
   "execution_count": 13,
   "metadata": {},
   "outputs": [
    {
     "ename": "ValueError",
     "evalue": "shapes (2,3) and (2,3) not aligned: 3 (dim 1) != 2 (dim 0)",
     "output_type": "error",
     "traceback": [
      "\u001b[1;31m---------------------------------------------------------------------------\u001b[0m",
      "\u001b[1;31mValueError\u001b[0m                                Traceback (most recent call last)",
      "\u001b[1;32m<ipython-input-13-00abe5c00211>\u001b[0m in \u001b[0;36m<module>\u001b[1;34m\u001b[0m\n\u001b[1;32m----> 1\u001b[1;33m \u001b[0marr\u001b[0m\u001b[1;33m.\u001b[0m\u001b[0mdot\u001b[0m\u001b[1;33m(\u001b[0m\u001b[0marr3\u001b[0m\u001b[1;33m)\u001b[0m\u001b[1;33m\u001b[0m\u001b[1;33m\u001b[0m\u001b[0m\n\u001b[0m",
      "\u001b[1;31mValueError\u001b[0m: shapes (2,3) and (2,3) not aligned: 3 (dim 1) != 2 (dim 0)"
     ]
    }
   ],
   "source": [
    "arr.dot(arr3)"
   ]
  },
  {
   "cell_type": "code",
   "execution_count": 15,
   "metadata": {},
   "outputs": [
    {
     "data": {
      "text/plain": [
       "2"
      ]
     },
     "execution_count": 15,
     "metadata": {},
     "output_type": "execute_result"
    }
   ],
   "source": [
    "arr.ndim"
   ]
  },
  {
   "cell_type": "code",
   "execution_count": 16,
   "metadata": {},
   "outputs": [
    {
     "data": {
      "text/plain": [
       "2"
      ]
     },
     "execution_count": 16,
     "metadata": {},
     "output_type": "execute_result"
    }
   ],
   "source": [
    "arr3.ndim"
   ]
  },
  {
   "cell_type": "code",
   "execution_count": 17,
   "metadata": {},
   "outputs": [
    {
     "data": {
      "text/plain": [
       "array([[49, 69, 89],\n",
       "       [16, 24, 32],\n",
       "       [16, 24, 32]])"
      ]
     },
     "execution_count": 17,
     "metadata": {},
     "output_type": "execute_result"
    }
   ],
   "source": [
    "arr4=np.array([[4,5,6],[1,2,3],[1,2,3]])\n",
    "arr5=np.array([[7,8,9],[3,5,7],[1,2,3]])\n",
    "arr4.dot(arr5)"
   ]
  },
  {
   "cell_type": "code",
   "execution_count": 40,
   "metadata": {},
   "outputs": [
    {
     "data": {
      "text/plain": [
       "array([[49, 69, 89],\n",
       "       [16, 24, 32],\n",
       "       [16, 24, 32]])"
      ]
     },
     "execution_count": 40,
     "metadata": {},
     "output_type": "execute_result"
    }
   ],
   "source": [
    "arr4@arr5"
   ]
  },
  {
   "cell_type": "code",
   "execution_count": 41,
   "metadata": {},
   "outputs": [
    {
     "data": {
      "text/plain": [
       "array([[ True,  True,  True],\n",
       "       [ True,  True,  True],\n",
       "       [ True,  True,  True]])"
      ]
     },
     "execution_count": 41,
     "metadata": {},
     "output_type": "execute_result"
    }
   ],
   "source": [
    "(arr4@arr4)<100"
   ]
  },
  {
   "cell_type": "code",
   "execution_count": 24,
   "metadata": {},
   "outputs": [
    {
     "name": "stdout",
     "output_type": "stream",
     "text": [
      "Sum:  15751366231638154\n",
      "maximum:  14465464564684354\n",
      "minimum:  14569875624885\n"
     ]
    }
   ],
   "source": [
    "t1=np.array([14465464564684354,1245435465454353,25896325874562,14569875624885])\n",
    "\n",
    "print('Sum: ',t1.sum())\n",
    "\n",
    "print('maximum: ',t1.max())\n",
    "\n",
    "print('minimum: ', t1.min())"
   ]
  },
  {
   "cell_type": "code",
   "execution_count": 28,
   "metadata": {},
   "outputs": [
    {
     "data": {
      "text/plain": [
       "array([[20, 21, 22, 23, 24, 25],\n",
       "       [26, 27, 28, 29, 30, 31],\n",
       "       [32, 33, 34, 35, 36, 37],\n",
       "       [38, 39, 40, 41, 42, 43],\n",
       "       [44, 45, 46, 47, 48, 49]])"
      ]
     },
     "execution_count": 28,
     "metadata": {},
     "output_type": "execute_result"
    }
   ],
   "source": [
    "t2=np.arange(20,50).reshape(5,6)\n",
    "t2"
   ]
  },
  {
   "cell_type": "code",
   "execution_count": 29,
   "metadata": {},
   "outputs": [
    {
     "data": {
      "text/plain": [
       "array([160, 165, 170, 175, 180, 185])"
      ]
     },
     "execution_count": 29,
     "metadata": {},
     "output_type": "execute_result"
    }
   ],
   "source": [
    "t2.sum(axis=0)"
   ]
  },
  {
   "cell_type": "code",
   "execution_count": 30,
   "metadata": {},
   "outputs": [
    {
     "data": {
      "text/plain": [
       "array([135, 171, 207, 243, 279])"
      ]
     },
     "execution_count": 30,
     "metadata": {},
     "output_type": "execute_result"
    }
   ],
   "source": [
    "t2.sum(axis=1)"
   ]
  },
  {
   "cell_type": "code",
   "execution_count": 39,
   "metadata": {},
   "outputs": [
    {
     "name": "stdout",
     "output_type": "stream",
     "text": [
      "the mean value of the row is:  [32 33 34 35 36 37]\n"
     ]
    }
   ],
   "source": [
    "print('the mean value of the row is: ',t2.mean(axis=0,dtype=np.int16))"
   ]
  },
  {
   "cell_type": "code",
   "execution_count": 37,
   "metadata": {},
   "outputs": [
    {
     "name": "stdout",
     "output_type": "stream",
     "text": [
      "the mean value of the row is:  [22.5 28.5 34.5 40.5 46.5]\n"
     ]
    }
   ],
   "source": [
    "print('the mean value of the row is: ',t2.mean(axis=1))"
   ]
  },
  {
   "cell_type": "code",
   "execution_count": 45,
   "metadata": {},
   "outputs": [
    {
     "data": {
      "text/plain": [
       "array([[ 20,  41,  63,  86, 110, 135],\n",
       "       [ 26,  53,  81, 110, 140, 171],\n",
       "       [ 32,  65,  99, 134, 170, 207],\n",
       "       [ 38,  77, 117, 158, 200, 243],\n",
       "       [ 44,  89, 135, 182, 230, 279]], dtype=int32)"
      ]
     },
     "execution_count": 45,
     "metadata": {},
     "output_type": "execute_result"
    }
   ],
   "source": [
    "t3=t2.cumsum(axis=1)\n",
    "t3\n"
   ]
  },
  {
   "cell_type": "code",
   "execution_count": 46,
   "metadata": {},
   "outputs": [
    {
     "data": {
      "text/plain": [
       "array([[ 20,  26,  32,  38,  44],\n",
       "       [ 41,  53,  65,  77,  89],\n",
       "       [ 63,  81,  99, 117, 135],\n",
       "       [ 86, 110, 134, 158, 182],\n",
       "       [110, 140, 170, 200, 230],\n",
       "       [135, 171, 207, 243, 279]], dtype=int32)"
      ]
     },
     "execution_count": 46,
     "metadata": {},
     "output_type": "execute_result"
    }
   ],
   "source": [
    "t3.T"
   ]
  },
  {
   "cell_type": "code",
   "execution_count": 59,
   "metadata": {},
   "outputs": [
    {
     "name": "stdout",
     "output_type": "stream",
     "text": [
      "[ 20  41  63  86 110 135]\n",
      "[ 26  53  81 110 140 171]\n",
      "[ 32  65  99 134 170 207]\n",
      "[ 38  77 117 158 200 243]\n",
      "[ 44  89 135 182 230 279]\n"
     ]
    }
   ],
   "source": [
    "for rows in t3:\n",
    "    print(rows)"
   ]
  },
  {
   "cell_type": "code",
   "execution_count": 48,
   "metadata": {},
   "outputs": [
    {
     "name": "stdout",
     "output_type": "stream",
     "text": [
      "20\n",
      "41\n",
      "63\n",
      "86\n",
      "110\n",
      "135\n",
      "26\n",
      "53\n",
      "81\n",
      "110\n",
      "140\n",
      "171\n",
      "32\n",
      "65\n",
      "99\n",
      "134\n",
      "170\n",
      "207\n",
      "38\n",
      "77\n",
      "117\n",
      "158\n",
      "200\n",
      "243\n",
      "44\n",
      "89\n",
      "135\n",
      "182\n",
      "230\n",
      "279\n"
     ]
    }
   ],
   "source": [
    "for elements in t3.flat:                 # printing each elemnt of the array matrix\n",
    "    print(elements)"
   ]
  },
  {
   "cell_type": "code",
   "execution_count": 57,
   "metadata": {},
   "outputs": [
    {
     "data": {
      "text/plain": [
       "(5, 5, 2)"
      ]
     },
     "execution_count": 57,
     "metadata": {},
     "output_type": "execute_result"
    }
   ],
   "source": [
    "c=np.arange(50)              #Automatic reshaping\n",
    "d=c.reshape((5,-1,2))\n",
    "d.shape\n"
   ]
  },
  {
   "cell_type": "code",
   "execution_count": 58,
   "metadata": {},
   "outputs": [
    {
     "data": {
      "text/plain": [
       "array([[[ 0,  1],\n",
       "        [ 2,  3],\n",
       "        [ 4,  5],\n",
       "        [ 6,  7],\n",
       "        [ 8,  9]],\n",
       "\n",
       "       [[10, 11],\n",
       "        [12, 13],\n",
       "        [14, 15],\n",
       "        [16, 17],\n",
       "        [18, 19]],\n",
       "\n",
       "       [[20, 21],\n",
       "        [22, 23],\n",
       "        [24, 25],\n",
       "        [26, 27],\n",
       "        [28, 29]],\n",
       "\n",
       "       [[30, 31],\n",
       "        [32, 33],\n",
       "        [34, 35],\n",
       "        [36, 37],\n",
       "        [38, 39]],\n",
       "\n",
       "       [[40, 41],\n",
       "        [42, 43],\n",
       "        [44, 45],\n",
       "        [46, 47],\n",
       "        [48, 49]]])"
      ]
     },
     "execution_count": 58,
     "metadata": {},
     "output_type": "execute_result"
    }
   ],
   "source": [
    "d"
   ]
  },
  {
   "cell_type": "code",
   "execution_count": null,
   "metadata": {},
   "outputs": [],
   "source": []
  }
 ],
 "metadata": {
  "kernelspec": {
   "display_name": "Python 3",
   "language": "python",
   "name": "python3"
  },
  "language_info": {
   "codemirror_mode": {
    "name": "ipython",
    "version": 3
   },
   "file_extension": ".py",
   "mimetype": "text/x-python",
   "name": "python",
   "nbconvert_exporter": "python",
   "pygments_lexer": "ipython3",
   "version": "3.7.1"
  }
 },
 "nbformat": 4,
 "nbformat_minor": 2
}
