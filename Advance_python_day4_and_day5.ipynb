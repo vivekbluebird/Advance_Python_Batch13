{
 "cells": [
  {
   "cell_type": "markdown",
   "metadata": {},
   "source": [
    "## Numpy operations"
   ]
  },
  {
   "cell_type": "code",
   "execution_count": 2,
   "metadata": {},
   "outputs": [
    {
     "data": {
      "text/plain": [
       "array([   0,    1,    8,   27,   64,  125,  216,  343,  512,  729, 1000,\n",
       "       1331, 1728, 2197, 2744, 3375, 4096, 4913, 5832, 6859], dtype=int32)"
      ]
     },
     "execution_count": 2,
     "metadata": {},
     "output_type": "execute_result"
    }
   ],
   "source": [
    "import numpy as np       # constructing an array list\n",
    "l=np.arange(20)**3\n",
    "l"
   ]
  },
  {
   "cell_type": "code",
   "execution_count": 3,
   "metadata": {},
   "outputs": [
    {
     "name": "stdout",
     "output_type": "stream",
     "text": [
      "0.0\n",
      "0.2\n",
      "1.6\n",
      "5.4\n",
      "12.8\n",
      "25.0\n",
      "43.2\n",
      "68.6\n",
      "102.4\n",
      "145.8\n",
      "200.0\n",
      "266.2\n",
      "345.6\n",
      "439.4\n",
      "548.8\n",
      "675.0\n",
      "819.2\n",
      "982.6\n",
      "1166.4\n",
      "1371.8\n"
     ]
    }
   ],
   "source": [
    "for j in l :                # iterating through the array list\n",
    "    print(j**1/5)"
   ]
  },
  {
   "cell_type": "code",
   "execution_count": 5,
   "metadata": {},
   "outputs": [
    {
     "data": {
      "text/plain": [
       "array(['red', 'green'], dtype='<U6')"
      ]
     },
     "execution_count": 5,
     "metadata": {},
     "output_type": "execute_result"
    }
   ],
   "source": [
    "colors=np.array([['red','green'],['orange','white'],['brown','violet']])   # creating array of same order list\n",
    "colors[0]"
   ]
  },
  {
   "cell_type": "code",
   "execution_count": 6,
   "metadata": {},
   "outputs": [
    {
     "data": {
      "text/plain": [
       "array(['orange', 'white'], dtype='<U6')"
      ]
     },
     "execution_count": 6,
     "metadata": {},
     "output_type": "execute_result"
    }
   ],
   "source": [
    "colors[1]"
   ]
  },
  {
   "cell_type": "code",
   "execution_count": 7,
   "metadata": {},
   "outputs": [
    {
     "name": "stdout",
     "output_type": "stream",
     "text": [
      "i= ['red' 'green']\n",
      "i= ['orange' 'white']\n",
      "i= ['brown' 'violet']\n"
     ]
    }
   ],
   "source": [
    "for each in colors:           # iterating  through the list with index named as 'i'\n",
    "    print('i=',each)"
   ]
  },
  {
   "cell_type": "code",
   "execution_count": 8,
   "metadata": {},
   "outputs": [
    {
     "data": {
      "text/plain": [
       "array([['red', 'green'],\n",
       "       ['orange', 'white'],\n",
       "       ['brown', 'violet']], dtype='<U6')"
      ]
     },
     "execution_count": 8,
     "metadata": {},
     "output_type": "execute_result"
    }
   ],
   "source": [
    "colors"
   ]
  },
  {
   "cell_type": "code",
   "execution_count": 9,
   "metadata": {},
   "outputs": [
    {
     "name": "stdout",
     "output_type": "stream",
     "text": [
      "red\n",
      "green\n",
      "orange\n",
      "white\n",
      "brown\n",
      "violet\n"
     ]
    }
   ],
   "source": [
    "for eachh in colors.flatten():          # Row major flattening\n",
    "    print(eachh)"
   ]
  },
  {
   "cell_type": "code",
   "execution_count": 4,
   "metadata": {},
   "outputs": [
    {
     "name": "stdout",
     "output_type": "stream",
     "text": [
      "red\n",
      "orange\n",
      "brown\n",
      "green\n",
      "white\n",
      "violet\n"
     ]
    }
   ],
   "source": [
    "import numpy as np\n",
    "colors=np.array([['red','green'],['orange','white'],['brown','violet']])     # column major flattening\n",
    "for eachh in colors.flatten(order='F'):\n",
    "    print(eachh)"
   ]
  },
  {
   "cell_type": "code",
   "execution_count": 3,
   "metadata": {},
   "outputs": [
    {
     "name": "stdout",
     "output_type": "stream",
     "text": [
      "vivek\n",
      "pranjal\n",
      "ajay\n",
      "vkkkkkk\n",
      "30\n",
      "40\n"
     ]
    }
   ],
   "source": [
    "import numpy as np\n",
    "arr=np.array([['vivek','pranjal'],['ajay','vkkkkkk'],[30,40]])                # column major flattening\n",
    "for k in arr.flatten():\n",
    "    print(k)"
   ]
  },
  {
   "cell_type": "code",
   "execution_count": 11,
   "metadata": {},
   "outputs": [
    {
     "data": {
      "text/plain": [
       "array([[ 0,  1,  2,  3,  4],\n",
       "       [ 5,  6,  7,  8,  9],\n",
       "       [10, 11, 12, 13, 14]])"
      ]
     },
     "execution_count": 11,
     "metadata": {},
     "output_type": "execute_result"
    }
   ],
   "source": [
    "k=np.arange(15).reshape(3,5)                   # creating array with reshape function to change it in matrix\n",
    "k"
   ]
  },
  {
   "cell_type": "code",
   "execution_count": 12,
   "metadata": {},
   "outputs": [
    {
     "name": "stdout",
     "output_type": "stream",
     "text": [
      "0\n",
      "1\n",
      "2\n",
      "3\n",
      "4\n",
      "5\n",
      "6\n",
      "7\n",
      "8\n",
      "9\n",
      "10\n",
      "11\n",
      "12\n",
      "13\n",
      "14\n"
     ]
    }
   ],
   "source": [
    "for m in np.nditer(k):                   # iterating through the matrix-----Row major\n",
    "    print(m)"
   ]
  },
  {
   "cell_type": "code",
   "execution_count": 14,
   "metadata": {},
   "outputs": [
    {
     "name": "stdout",
     "output_type": "stream",
     "text": [
      "0\n",
      "5\n",
      "10\n",
      "1\n",
      "6\n",
      "11\n",
      "2\n",
      "7\n",
      "12\n",
      "3\n",
      "8\n",
      "13\n",
      "4\n",
      "9\n",
      "14\n"
     ]
    }
   ],
   "source": [
    "for j in np.nditer(k,order='F'):                        # iterating through the matrix-----Column major\n",
    "    print(j)"
   ]
  },
  {
   "cell_type": "code",
   "execution_count": 11,
   "metadata": {},
   "outputs": [
    {
     "name": "stdout",
     "output_type": "stream",
     "text": [
      "Requirement already satisfied: iteration_utilities in c:\\users\\vivek\\anaconda3\\lib\\site-packages (0.10.1)\n"
     ]
    }
   ],
   "source": [
    "!pip install iteration_utilities"
   ]
  },
  {
   "cell_type": "code",
   "execution_count": 44,
   "metadata": {},
   "outputs": [
    {
     "name": "stdout",
     "output_type": "stream",
     "text": [
      "r\n",
      "e\n",
      "d\n",
      "g\n",
      "r\n",
      "e\n",
      "e\n",
      "n\n",
      "w\n",
      "h\n",
      "i\n",
      "t\n",
      "e\n",
      "o\n",
      "r\n",
      "a\n",
      "n\n",
      "g\n",
      "e\n",
      "b\n",
      "r\n",
      "o\n",
      "w\n",
      "n\n",
      "s\n",
      "k\n",
      "y\n",
      "t\n",
      "r\n",
      "e\n",
      "e\n"
     ]
    }
   ],
   "source": [
    "from iteration_utilities import deepflatten\n",
    "import numpy as np\n",
    "colors=np.array([['red','green','white'],['orange'],['brown','sky','tree']])   # deepflatttenig using external package\n",
    "for h in deepflatten(colors):\n",
    "    print(h)"
   ]
  },
  {
   "cell_type": "markdown",
   "metadata": {},
   "source": [
    "\n",
    "## Set operations\n",
    "\n"
   ]
  },
  {
   "cell_type": "code",
   "execution_count": 12,
   "metadata": {},
   "outputs": [
    {
     "data": {
      "text/plain": [
       "{'a', 'b', 'c', 'd'}"
      ]
     },
     "execution_count": 12,
     "metadata": {},
     "output_type": "execute_result"
    }
   ],
   "source": [
    "set1={\"a\",\"b\",\"c\",\"c\",\"d\",\"b\"}\n",
    "set1"
   ]
  },
  {
   "cell_type": "code",
   "execution_count": 13,
   "metadata": {},
   "outputs": [
    {
     "data": {
      "text/plain": [
       "{1, 2, 3, 4, 5, 'a', 'c'}"
      ]
     },
     "execution_count": 13,
     "metadata": {},
     "output_type": "execute_result"
    }
   ],
   "source": [
    "set2={1,2,3,4,5,\"a\",\"c\"}\n",
    "set2"
   ]
  },
  {
   "cell_type": "code",
   "execution_count": 14,
   "metadata": {},
   "outputs": [
    {
     "data": {
      "text/plain": [
       "{'a', 'c'}"
      ]
     },
     "execution_count": 14,
     "metadata": {},
     "output_type": "execute_result"
    }
   ],
   "source": [
    "set1 & set2                 # intersection of sets"
   ]
  },
  {
   "cell_type": "code",
   "execution_count": 15,
   "metadata": {},
   "outputs": [
    {
     "data": {
      "text/plain": [
       "{1, 2, 3, 4, 5, 'a', 'b', 'c', 'd'}"
      ]
     },
     "execution_count": 15,
     "metadata": {},
     "output_type": "execute_result"
    }
   ],
   "source": [
    "set1.union(set2)             # union of sets"
   ]
  },
  {
   "cell_type": "code",
   "execution_count": 16,
   "metadata": {},
   "outputs": [
    {
     "data": {
      "text/plain": [
       "False"
      ]
     },
     "execution_count": 16,
     "metadata": {},
     "output_type": "execute_result"
    }
   ],
   "source": [
    "set1.issubset(set2)           # checking for subset"
   ]
  },
  {
   "cell_type": "code",
   "execution_count": 17,
   "metadata": {},
   "outputs": [
    {
     "name": "stdout",
     "output_type": "stream",
     "text": [
      "0 a\n",
      "1 b\n",
      "2 c\n",
      "3 d\n"
     ]
    }
   ],
   "source": [
    "list1=[\"a\",\"b\",\"c\",\"d\"]          # alternate way of counting indices\n",
    "for i,x in enumerate(list1):\n",
    "    print(i,x)"
   ]
  },
  {
   "cell_type": "code",
   "execution_count": 18,
   "metadata": {},
   "outputs": [
    {
     "ename": "TypeError",
     "evalue": "'int' object is not iterable",
     "output_type": "error",
     "traceback": [
      "\u001b[1;31m---------------------------------------------------------------------------\u001b[0m",
      "\u001b[1;31mTypeError\u001b[0m                                 Traceback (most recent call last)",
      "\u001b[1;32m<ipython-input-18-d375b01c14ed>\u001b[0m in \u001b[0;36m<module>\u001b[1;34m\u001b[0m\n\u001b[1;32m----> 1\u001b[1;33m \u001b[1;32mfor\u001b[0m \u001b[0mi\u001b[0m\u001b[1;33m,\u001b[0m\u001b[0mx\u001b[0m \u001b[1;32min\u001b[0m \u001b[0mrange\u001b[0m \u001b[1;33m(\u001b[0m\u001b[0menumerate\u001b[0m\u001b[1;33m(\u001b[0m\u001b[1;36m10\u001b[0m\u001b[1;33m)\u001b[0m\u001b[1;33m)\u001b[0m\u001b[1;33m:\u001b[0m\u001b[1;33m\u001b[0m\u001b[1;33m\u001b[0m\u001b[0m\n\u001b[0m\u001b[0;32m      2\u001b[0m     \u001b[0mprint\u001b[0m\u001b[1;33m(\u001b[0m\u001b[0mi\u001b[0m\u001b[1;33m,\u001b[0m\u001b[0mx\u001b[0m\u001b[1;33m)\u001b[0m\u001b[1;33m\u001b[0m\u001b[1;33m\u001b[0m\u001b[0m\n",
      "\u001b[1;31mTypeError\u001b[0m: 'int' object is not iterable"
     ]
    }
   ],
   "source": [
    "for i,x in range (enumerate(10)):\n",
    "    print(i,x)"
   ]
  },
  {
   "cell_type": "code",
   "execution_count": 19,
   "metadata": {},
   "outputs": [
    {
     "name": "stdout",
     "output_type": "stream",
     "text": [
      "0 0\n",
      "1 1\n",
      "2 2\n",
      "3 3\n",
      "4 4\n",
      "5 5\n",
      "6 6\n",
      "7 7\n",
      "8 8\n",
      "9 9\n"
     ]
    }
   ],
   "source": [
    "for i,x in enumerate(range(10)):        #counting in particular range\n",
    "    print(i,x)"
   ]
  },
  {
   "cell_type": "code",
   "execution_count": 23,
   "metadata": {},
   "outputs": [
    {
     "name": "stdout",
     "output_type": "stream",
     "text": [
      "1 100\n",
      "2 101\n",
      "3 102\n",
      "4 103\n",
      "5 104\n",
      "6 105\n",
      "7 106\n",
      "8 107\n",
      "9 108\n",
      "10 109\n"
     ]
    }
   ],
   "source": [
    "for i,x in enumerate(range(100,110),1):     #defining own index\n",
    "    print(i,x)"
   ]
  },
  {
   "cell_type": "code",
   "execution_count": 24,
   "metadata": {},
   "outputs": [
    {
     "name": "stdout",
     "output_type": "stream",
     "text": [
      "['aman', 'aman', 'aman', 'aman', 'aman'] 5\n",
      "0 aman\n",
      "1 aman\n",
      "2 aman\n",
      "3 aman\n",
      "4 aman\n"
     ]
    }
   ],
   "source": [
    "list2=[\"aman\",\"aman\",\"aman\",\"aman\",\"aman\",\"raman\",\"sarman\"]\n",
    "l=[]\n",
    "i=0\n",
    "while(list2[i]==\"aman\"):\n",
    "    l.append(list2[i])\n",
    "    i+=1\n",
    "print(l,i)\n",
    "for v,x in enumerate(l):      # creating a list and counting the element through enumerate method\n",
    "\n",
    "    print(v,x)"
   ]
  },
  {
   "cell_type": "code",
   "execution_count": 25,
   "metadata": {},
   "outputs": [
    {
     "name": "stdout",
     "output_type": "stream",
     "text": [
      "q\n",
      "w\n",
      "r\n",
      "s\n",
      "y\n"
     ]
    }
   ],
   "source": [
    "def fun1(*names):               # addding as many name we want using * in a function\n",
    "    for name in names:\n",
    "        print(name)\n",
    "        \n",
    "fun1(\"q\",\"w\",\"r\",\"s\",\"y\")        "
   ]
  },
  {
   "cell_type": "markdown",
   "metadata": {},
   "source": [
    "## Introduction to pandas\n"
   ]
  },
  {
   "cell_type": "code",
   "execution_count": 2,
   "metadata": {},
   "outputs": [],
   "source": [
    "import pandas as pd\n",
    "import numpy as np"
   ]
  },
  {
   "cell_type": "code",
   "execution_count": 3,
   "metadata": {},
   "outputs": [
    {
     "name": "stdout",
     "output_type": "stream",
     "text": [
      "Series([], dtype: float64)\n"
     ]
    }
   ],
   "source": [
    "a=pd.Series()      # creating a series in panda\n",
    "print(a)"
   ]
  },
  {
   "cell_type": "code",
   "execution_count": 4,
   "metadata": {},
   "outputs": [
    {
     "data": {
      "text/plain": [
       "0       i\n",
       "1      we\n",
       "2    they\n",
       "3     our\n",
       "4     her\n",
       "dtype: object"
      ]
     },
     "execution_count": 4,
     "metadata": {},
     "output_type": "execute_result"
    }
   ],
   "source": [
    "first=np.array(['i','we','they','our','her'])     # formatting array into series\n",
    "second=pd.Series(first)\n",
    "second"
   ]
  },
  {
   "cell_type": "code",
   "execution_count": 5,
   "metadata": {},
   "outputs": [
    {
     "data": {
      "text/plain": [
       "10       i\n",
       "20      we\n",
       "30    they\n",
       "40     our\n",
       "50     her\n",
       "dtype: object"
      ]
     },
     "execution_count": 5,
     "metadata": {},
     "output_type": "execute_result"
    }
   ],
   "source": [
    "second=pd.Series(first,index=[10,20,30,40,50])     # giving own index to the series\n",
    "second"
   ]
  },
  {
   "cell_type": "code",
   "execution_count": 7,
   "metadata": {},
   "outputs": [
    {
     "name": "stdout",
     "output_type": "stream",
     "text": [
      "a    0.0\n",
      "b    1.1\n",
      "c    2.2\n",
      "d    3.3\n",
      "dtype: float64\n"
     ]
    }
   ],
   "source": [
    "third={'a':0.00,'b':1.10,'c':2.20,'d':3.30}          # creating series for dictionaries\n",
    "fourth=pd.Series(third)\n",
    "print(fourth)"
   ]
  },
  {
   "cell_type": "code",
   "execution_count": 14,
   "metadata": {},
   "outputs": [
    {
     "data": {
      "text/plain": [
       "d    3.3\n",
       "b    1.1\n",
       "e    NaN\n",
       "f    NaN\n",
       "c    2.2\n",
       "a    0.0\n",
       "dtype: float64"
      ]
     },
     "execution_count": 14,
     "metadata": {},
     "output_type": "execute_result"
    }
   ],
   "source": [
    "fifth=pd.Series(fourth,index=['d','b','e','f','c','a'])   # printing own indices\n",
    "fifth"
   ]
  },
  {
   "cell_type": "code",
   "execution_count": 15,
   "metadata": {},
   "outputs": [
    {
     "data": {
      "text/plain": [
       "array([3.3, 1.1, nan, nan, 2.2, 0. ])"
      ]
     },
     "execution_count": 15,
     "metadata": {},
     "output_type": "execute_result"
    }
   ],
   "source": [
    "fifth.values                 # finding the values by .value method"
   ]
  },
  {
   "cell_type": "code",
   "execution_count": 16,
   "metadata": {},
   "outputs": [
    {
     "data": {
      "text/plain": [
       "Index(['d', 'b', 'e', 'f', 'c', 'a'], dtype='object')"
      ]
     },
     "execution_count": 16,
     "metadata": {},
     "output_type": "execute_result"
    }
   ],
   "source": [
    "fifth.index                 # finding the index by .index method"
   ]
  },
  {
   "cell_type": "code",
   "execution_count": 18,
   "metadata": {},
   "outputs": [
    {
     "name": "stdout",
     "output_type": "stream",
     "text": [
      "d     4\n",
      "e     9\n",
      "f    16\n",
      "g    25\n",
      "h    36\n",
      "dtype: int64\n"
     ]
    }
   ],
   "source": [
    "sixth=pd.Series([4,9,16,25,36],index=['d','e','f','g','h'])   # alternative ways to creat series\n",
    "print(sixth)"
   ]
  },
  {
   "cell_type": "code",
   "execution_count": 20,
   "metadata": {},
   "outputs": [
    {
     "data": {
      "text/plain": [
       "16"
      ]
     },
     "execution_count": 20,
     "metadata": {},
     "output_type": "execute_result"
    }
   ],
   "source": [
    "sixth['f']                   # retrieving the element through index value"
   ]
  },
  {
   "cell_type": "code",
   "execution_count": 22,
   "metadata": {},
   "outputs": [
    {
     "data": {
      "text/plain": [
       "f    16\n",
       "e     9\n",
       "h    36\n",
       "dtype: int64"
      ]
     },
     "execution_count": 22,
     "metadata": {},
     "output_type": "execute_result"
    }
   ],
   "source": [
    "sixth[['f','e','h']]          # retrieving the element through multiple index value"
   ]
  },
  {
   "cell_type": "code",
   "execution_count": 33,
   "metadata": {},
   "outputs": [
    {
     "data": {
      "text/plain": [
       "f    16\n",
       "g    25\n",
       "h    36\n",
       "Name: Square of number*2, dtype: int64"
      ]
     },
     "execution_count": 33,
     "metadata": {},
     "output_type": "execute_result"
    }
   ],
   "source": [
    "sixth[sixth>=16]            # retrieving the element whose value is greater than or equal to 16"
   ]
  },
  {
   "cell_type": "code",
   "execution_count": 37,
   "metadata": {},
   "outputs": [
    {
     "name": "stdout",
     "output_type": "stream",
     "text": [
      "d     8\n",
      "e    18\n",
      "f    32\n",
      "g    50\n",
      "h    72\n",
      "Name: Square of number*2, dtype: int64\n"
     ]
    }
   ],
   "source": [
    "seventh=sixth*2                          # computing square of the series formed\n",
    "seventh.name='Square of number*2' \n",
    "print(seventh)"
   ]
  },
  {
   "cell_type": "code",
   "execution_count": 42,
   "metadata": {},
   "outputs": [
    {
     "name": "stdout",
     "output_type": "stream",
     "text": [
      "2 sqr *2 =     8\n",
      "3 sqr *2 =    18\n",
      "4 sqr *2 =    32\n",
      "5 sqr *2 =    50\n",
      "6 sqr *2 =    72\n",
      "Name: Square of number*2, dtype: int64\n"
     ]
    }
   ],
   "source": [
    "seventh.index=['2 sqr *2 =','3 sqr *2 =','4 sqr *2 =','5 sqr *2 =','6 sqr *2 =']     #Altering the index values \n",
    "print(seventh)"
   ]
  },
  {
   "cell_type": "code",
   "execution_count": null,
   "metadata": {},
   "outputs": [],
   "source": []
  }
 ],
 "metadata": {
  "kernelspec": {
   "display_name": "Python 3",
   "language": "python",
   "name": "python3"
  },
  "language_info": {
   "codemirror_mode": {
    "name": "ipython",
    "version": 3
   },
   "file_extension": ".py",
   "mimetype": "text/x-python",
   "name": "python",
   "nbconvert_exporter": "python",
   "pygments_lexer": "ipython3",
   "version": "3.7.1"
  }
 },
 "nbformat": 4,
 "nbformat_minor": 2
}
